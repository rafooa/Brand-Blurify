{
  "nbformat": 4,
  "nbformat_minor": 0,
  "metadata": {
    "colab": {
      "provenance": [],
      "authorship_tag": "ABX9TyM8mhIzrkMtT86n7BIbbEhf",
      "include_colab_link": true
    },
    "kernelspec": {
      "name": "python3",
      "display_name": "Python 3"
    },
    "language_info": {
      "name": "python"
    }
  },
  "cells": [
    {
      "cell_type": "markdown",
      "metadata": {
        "id": "view-in-github",
        "colab_type": "text"
      },
      "source": [
        "<a href=\"https://colab.research.google.com/github/rafooa/Brand-Blurify/blob/main/AI_Project_Brand_Blurrify.ipynb\" target=\"_parent\"><img src=\"https://colab.research.google.com/assets/colab-badge.svg\" alt=\"Open In Colab\"/></a>"
      ]
    },
    {
      "cell_type": "code",
      "execution_count": null,
      "metadata": {
        "id": "d5lOV-Dc1yax"
      },
      "outputs": [],
      "source": [
        "!git clone https://github.com/rafooa/Brand-Blurify\n",
        "%cd brand-blurify\n",
        "%pip install -qr requirements.txt\n",
        "\n",
        "import torch\n",
        "import utils\n",
        "display = utils.notebook_init()  # checks"
      ]
    },
    {
      "cell_type": "code",
      "source": [
        "!python train.py --img 640 --batch 16 --epochs 20 --data data.yaml --weights best.pt --cache"
      ],
      "metadata": {
        "id": "jtvTf-cnfx9t"
      },
      "execution_count": null,
      "outputs": []
    },
    {
      "cell_type": "code",
      "source": [
        "!python val.py --weights best.pt --data data.yaml --img 640 --half"
      ],
      "metadata": {
        "id": "iZGgcpCCgAt0"
      },
      "execution_count": null,
      "outputs": []
    },
    {
      "cell_type": "code",
      "source": [
        "!python detect.py --weights best.pt --img 640 --conf 0.25 --source data/images"
      ],
      "metadata": {
        "id": "M6-UbrMDgFRG"
      },
      "execution_count": null,
      "outputs": []
    }
  ]
}